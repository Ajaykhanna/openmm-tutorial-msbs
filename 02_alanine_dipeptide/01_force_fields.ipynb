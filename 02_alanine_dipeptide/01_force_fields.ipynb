{
 "cells": [
  {
   "cell_type": "markdown",
   "metadata": {},
   "source": [
    "# Molecular Dynamics Simulation of Alanine Dipeptide\n",
    "\n",
    "In this notebook, we will be using the latest AMBER and CHARMM force fields. The OpenMM documentation contains [a complete overview of included force fields](http://docs.openmm.org/latest/userguide/application.html#force-fields). The corresponding data files can be viewed on the [GitHub repository](https://github.com/openmm/openmm/tree/master/wrappers/python/simtk/openmm/app/data). These files are already included in every OpenMM installation, so you don't need to download them.\n",
    "\n",
    "Just to avoid getting lost in the force field zoo, here are the key references to various AMBER force fields and some comments on the history of their development:\n",
    "\n",
    "- 1997 `amber96.xml`: a slight improvement of amber94 with ab initio calculations, not very significant. [REF](https://doi.org/10.1007/978-94-017-1120-3_2)\n",
    "\n",
    "- 2006 `amber99sb.xml`: a refinement of amber ff94 side-chain and mostly backbone (SB) torsional parameters, to obtain better balance between stabilities of different secondary structure elements, in the literature referred to as AMBER ff99SB. [REF](https://dx.doi.org/10.1002%2Fprot.21123)\n",
    "\n",
    "- 2003 `amber03.xml`: improvement of AMBER ff99SB by refitting of torsional parameters to ab initio data, referred to as AMBER ff03. [REF](https://doi.org/10.1002/jcc.10349)\n",
    "\n",
    "- 2010 `amber99sbildn.xml`: refitting of AMBER ff99sb to improve side-chain conformations to match NMR data, in the literature referred to as AMBER ff99SB-ILDN. [REF](https://dx.doi.org/10.1002%2Fprot.22711)\n",
    "\n",
    "- 2010 `amber99sbnmr.xml`: another (not as popular) refitting of AMBER ff99SB parameters to NMR data. [REF](https://doi.org/10.1002/anie.201001898)\n",
    "\n",
    "- ???? `amber10.xml`: origin not clear (yet), it is certainly an intermediate step in the development of AMBER ff14SB.\n",
    "\n",
    "- 2015 `amber14-all.xml` or `amber14/protein.xml`: improved side-chain and backbone parameters starting from AMBER ff99SB, in the literature referred to as AMBER ff14SB. [REF](https://doi.org/10.1021/acs.jctc.5b00255)\n",
    "\n",
    "The most recent (and recommended) AMBER force field is **AMBER ff14SB**. If for some reason, you need to use an older model, **AMBER ff99SB-ILDN** or **AMBER ff99SB** could be useful. The remaining ones are rarely used anymore.\n",
    "\n",
    "Another popular family of biomolecular force fields are the CHARMM force fields. The [CHARMM36](https://doi.org/10.1021/ct300400x) force field was pubslished in 2012 and its development followed similar steps as that of AMBER. In 1992 the CHARMM22 force field was released. In 2004, so-called [CMAP corrections](https://doi.org/10.1021/ja036959e) were released based on ab initio reference data, to improve the accuracy of the backbone conformations. In CHARMM36 this was taken one (big) step further, with more accurate ab initio data and follow-up refinements against NMR data.\n",
    "The files `charmm36.xml` and `charmm36/*.xml` were only included recently in OpenMM and these will not be used for this tutorial. Instead, files generated with [CHARMM GUI](http://charmm-gui.org/) will be used instead.\n",
    "\n",
    "\n",
    "## 1. Gas phase (AMBER)\n",
    "\n",
    "Unlike the first notebook, all imports and initialization are put in the first cell."
   ]
  },
  {
   "cell_type": "code",
   "execution_count": null,
   "metadata": {},
   "outputs": [],
   "source": [
    "%matplotlib widget\n",
    "from sys import stdout\n",
    "from simtk.openmm.app import *\n",
    "from simtk.openmm import *\n",
    "from simtk.unit import *\n",
    "import numpy as np\n",
    "import nglview\n",
    "import mdtraj\n",
    "import pandas\n",
    "import matplotlib.pyplot as plt"
   ]
  },
  {
   "cell_type": "markdown",
   "metadata": {},
   "source": [
    "We will run test simulations on tiny \"protein\": alanine dipeptide. Data files for this notebook were taken from the [OpenMM test systems](https://github.com/openmm/openmm/tree/master/wrappers/python/tests/systems). The files `alanine-dipeptide-implicit.*` were renamed as follows:\n",
    "\n",
    "* `alanine-dipeptide.pdb` (All-atom PDB file.)\n",
    "* `alanine-dipeptide.inpcrd` (AMBER input coordinates)\n",
    "* `alanine-dipeptide.prmtop` (AMBER parameters and topology)\n",
    "\n",
    "The simulation code below closely follows the water example from the previous notebook with a few minor differences:\n",
    "\n",
    "- The topology and the initial positions are now taken from a PDB file\n",
    "\n",
    "- A Langevin integrator is used, with different settings and more MD steps.\n",
    "\n",
    "- The AMBER 2014 force field is used.\n",
    "\n",
    "- X-H bonds are constrained in length, where X can be any atom. This allows us to take time steps of 2 femtoseconds.\n",
    "\n",
    "This is not a realistic simulation because the dipeptide is simulated in gas phase (no solvation)."
   ]
  },
  {
   "cell_type": "code",
   "execution_count": null,
   "metadata": {},
   "outputs": [],
   "source": [
    "pdb = PDBFile('alanine-dipeptide.pdb')\n",
    "print(pdb.topology)\n",
    "forcefield = ForceField('amber14-all.xml')\n",
    "system = forcefield.createSystem(pdb.topology, nonbondedCutoff=3*nanometer, constraints=HBonds)\n",
    "integrator = LangevinIntegrator(300*kelvin, 1/picosecond, 2*femtoseconds)\n",
    "simulation = Simulation(pdb.topology, system, integrator)\n",
    "simulation.context.setPositions(pdb.positions)\n",
    "simulation.minimizeEnergy()"
   ]
  },
  {
   "cell_type": "markdown",
   "metadata": {},
   "source": [
    "\n",
    "**<span style=\"color:#A03;font-size:14pt\">\n",
    "&#x270B; HANDS-ON! &#x1F528;\n",
    "</span>**\n",
    "\n",
    "> Modify the PDB file to understand which pieces of information are essential to apply the force-field defition. Try making changes to:\n",
    ">\n",
    "> 1. the atom names, \n",
    "> 2. the name of a residue, \n",
    "> 3. the order of the atoms (within one residue or mixing residues) and \n",
    "> 4. the presence of atoms.\n",
    ">\n",
    "> Also note that the PDB file contains no bonds. These are somehow reconstructed when loading the PDB file. Try displacing one atom over a large distance. Does this affect the bond detection?\n",
    "\n",
    "In the next cell, an MD simulation is carried out and the trajectory is written to a DCD file. This is a compact binary file format for trajectory data. This does not only save disk space. Also loading DCD files is much faster compared to PDB trajectory files."
   ]
  },
  {
   "cell_type": "code",
   "execution_count": null,
   "metadata": {},
   "outputs": [],
   "source": [
    "simulation.reporters = []\n",
    "simulation.reporters.append(DCDReporter('traj1.dcd', 100))\n",
    "simulation.reporters.append(StateDataReporter(stdout, 1000, step=True,\n",
    "        temperature=True, elapsedTime=True))\n",
    "simulation.reporters.append(StateDataReporter(\"scalars1.csv\", 100, time=True,\n",
    "    potentialEnergy=True, totalEnergy=True, temperature=True))\n",
    "simulation.step(100000)"
   ]
  },
  {
   "cell_type": "markdown",
   "metadata": {},
   "source": [
    "In the next code cell, the potential energy as function of time is plotted. It reveals a very short equilibration phase. Because the energy was first minimized, the potential energy starts low and increases quickly due to the motion of the atoms.\n",
    "\n",
    "Normally, the equilibration phase should be discarded prior to further analysis. We will only do this in the example with explicit solvent in this notebook."
   ]
  },
  {
   "cell_type": "code",
   "execution_count": null,
   "metadata": {},
   "outputs": [],
   "source": [
    "df1 = pandas.read_csv(\"scalars1.csv\")\n",
    "df1.plot(kind='line', x='#\"Time (ps)\"', y='Potential Energy (kJ/mole)')"
   ]
  },
  {
   "cell_type": "markdown",
   "metadata": {},
   "source": [
    "The visualization below shows a few changes in conformation of the dipeptide."
   ]
  },
  {
   "cell_type": "code",
   "execution_count": null,
   "metadata": {},
   "outputs": [],
   "source": [
    "traj1 = mdtraj.load('traj1.dcd', top='alanine-dipeptide.pdb')\n",
    "traj1.superpose(traj1, 0)\n",
    "nglview.show_mdtraj(traj1)"
   ]
  },
  {
   "cell_type": "markdown",
   "metadata": {},
   "source": [
    "The following cell defines a function to draw a \"Ramachandran\" plot with MatPlotLib. As opposed to a conventional Ramachandran plot, datapoints represents different conformations (time steps) of the same angles."
   ]
  },
  {
   "cell_type": "code",
   "execution_count": null,
   "metadata": {},
   "outputs": [],
   "source": [
    "def plot_ramachandran(traj, phi_atoms=None, psi_atoms=None):\n",
    "    \"\"\"Generate a basic Ramachandrom plot for a given trajectory.\n",
    "    \n",
    "    Parameters\n",
    "    ----------\n",
    "    traj\n",
    "        An MDTraj trajectory object.\n",
    "    phi_atoms\n",
    "        A list of atom names (in order) to identify the phi angle.\n",
    "        The defaults in MDTraj do not work for termini in CHARMM\n",
    "        topologies, which can be fixed with this argument.\n",
    "    psi_atoms\n",
    "        A list of atom names (in order) to identify the psi angle.\n",
    "        The defaults in MDTraj do not work for termini in CHARMM\n",
    "        topologies, which can be fixed with this argument.\n",
    "\n",
    "    \"\"\"\n",
    "    from matplotlib.gridspec import GridSpec\n",
    "    if phi_atoms is None:\n",
    "        phis = mdtraj.compute_phi(traj)[1].ravel()\n",
    "    else:\n",
    "        phis = mdtraj.compute_dihedrals(traj, mdtraj.geometry.dihedral._atom_sequence(traj.topology, phi_atoms)[1])\n",
    "    if psi_atoms is None:\n",
    "        psis = mdtraj.compute_psi(traj)[1].ravel()\n",
    "    else:\n",
    "        psis = mdtraj.compute_dihedrals(traj, mdtraj.geometry.dihedral._atom_sequence(traj.topology, psi_atoms)[1])\n",
    "    fig = plt.figure()\n",
    "    gs = GridSpec(nrows=2, ncols=3, wspace=0.1)\n",
    "    # Ramachandran plot\n",
    "    ax1 = fig.add_subplot(gs[:2, :2])\n",
    "    ax1.plot(phis*180/np.pi, psis*180/np.pi, 'k+')\n",
    "    ax1.set_aspect('equal', adjustable='box')\n",
    "    ax1.axvline(0)\n",
    "    ax1.axhline(0)\n",
    "    ax1.set_xlim(-180, 180)\n",
    "    ax1.set_ylim(-180, 180)\n",
    "    ax1.set_xticks(np.linspace(-180, 180, 5))\n",
    "    ax1.set_yticks(np.linspace(-180, 180, 5))\n",
    "    ax1.set_xlabel(\"Phi [deg]\")\n",
    "    ax1.set_ylabel(\"Psi [deg]\")\n",
    "    # Phi(t) plot\n",
    "    ax2 = fig.add_subplot(gs[0, 2])\n",
    "    ax2.plot(np.arange(len(phis)), phis*180/np.pi, 'k+')\n",
    "    ax2.axhline(0)\n",
    "    ax2.set_ylim(-180, 180)\n",
    "    ax2.set_yticks(np.linspace(-180, 180, 5))\n",
    "    ax2.set_xlabel(\"Step\")\n",
    "    ax2.set_ylabel(\"Phi [deg]\")\n",
    "    # Psi(t) plot\n",
    "    ax3 = fig.add_subplot(gs[1, 2])\n",
    "    ax3.plot(np.arange(len(phis)), psis*180/np.pi, 'k+')\n",
    "    ax3.axhline(0)\n",
    "    ax3.set_ylim(-180, 180)\n",
    "    ax3.set_yticks(np.linspace(-180, 180, 5))\n",
    "    ax3.set_xlabel(\"Step\")\n",
    "    ax3.set_ylabel(\"Psi [deg]\")\n",
    "    plt.show()\n",
    "\n",
    "# Function call to make the plot    \n",
    "plot_ramachandran(traj1)"
   ]
  },
  {
   "cell_type": "markdown",
   "metadata": {},
   "source": [
    "## 2. Implicit solvent model (AMBER with GBSA-OBC)\n",
    "\n",
    "OpenMM supports various parameterizations of the generalized-Born Surface Area (GBSA) model, e.g. that by \n",
    "Onufriev, Bashford and Case (OBC), see https://doi.org/10.1002/prot.20033. For a limited number of force fields, atomic GBSA-OBC parameters were generated according to a recipe in the [TINKER](https://dasher.wustl.edu/tinker/) program:\n",
    "\n",
    "- `amber96_obc.xml` for `amber96.xml`\n",
    "- `amber03_obc.xml` for `amber03.xml`\n",
    "- `amber10_obc.xml` for `amber10.xml`\n",
    "- `amber99_obc.xml` for `amber99sb.xml`, `amber99sbildn.xml` or `amber99sbnmr.xml`\n",
    "\n",
    "These can be used by changing the force field definition, e.g. to `ForceField('amber99sbildn.xml', 'amber99_obc.xml')`. Keep in mind that these extra atomic parameters for GBSA-OBC deviate from those in the [AMBER](http://ambermd.org/) program.\n",
    "\n",
    "One can also use implicit solvent models that match exactly those implemented in the AMBER program, and this is also the only way to use an implicit solvent model with AMBER ff14SB. To make this work, we can no longer simply start from a PDB file. Instead we have to load the structure, the topology and the force field parameters from so-called INPCRD and PRMTOP files. These files can be constructed with [AmberTools](http://ambermd.org/AmberTools.php) or [CHARMM-GUI](http://www.charmm-gui.org), starting from a PDB file and a force field definition. For this example, the files were prepared previously."
   ]
  },
  {
   "cell_type": "code",
   "execution_count": null,
   "metadata": {},
   "outputs": [],
   "source": [
    "prmtop = AmberPrmtopFile('alanine-dipeptide.prmtop')\n",
    "inpcrd = AmberInpcrdFile('alanine-dipeptide.inpcrd')\n",
    "system = prmtop.createSystem(implicitSolvent=OBC2, nonbondedCutoff=3*nanometer, constraints=HBonds)\n",
    "integrator = LangevinIntegrator(300*kelvin, 1/picosecond, 0.002*picoseconds)\n",
    "simulation = Simulation(prmtop.topology, system, integrator)\n",
    "simulation.context.setPositions(inpcrd.positions)\n",
    "simulation.minimizeEnergy()\n",
    "simulation.reporters.append(DCDReporter('traj2.dcd', 100))\n",
    "simulation.reporters.append(StateDataReporter(stdout, 1000, step=True,\n",
    "        temperature=True, elapsedTime=True))\n",
    "simulation.reporters.append(StateDataReporter(\"scalars2.csv\", 100, time=True,\n",
    "    potentialEnergy=True, totalEnergy=True, temperature=True))\n",
    "simulation.step(100000)"
   ]
  },
  {
   "cell_type": "markdown",
   "metadata": {},
   "source": [
    "With the implicit solvent model, the computational cost increases by approximately 50%. (This increase might vary with system size.)\n",
    "\n",
    "The potential energy as function of time shows a short equilibration phase, comparable to the previous example:"
   ]
  },
  {
   "cell_type": "code",
   "execution_count": null,
   "metadata": {},
   "outputs": [],
   "source": [
    "df2 = pandas.read_csv(\"scalars2.csv\")\n",
    "df2.plot(kind='line', x='#\"Time (ps)\"', y='Potential Energy (kJ/mole)')"
   ]
  },
  {
   "cell_type": "markdown",
   "metadata": {},
   "source": [
    "We can now compare the structure of the backbone with and without implicit solvent. Also compare with figures obtained by other students."
   ]
  },
  {
   "cell_type": "code",
   "execution_count": null,
   "metadata": {},
   "outputs": [],
   "source": [
    "traj2 = mdtraj.load('traj2.dcd', top='alanine-dipeptide.prmtop')\n",
    "plot_ramachandran(traj2)"
   ]
  },
  {
   "cell_type": "markdown",
   "metadata": {},
   "source": [
    "## 3. Explicit solvent model (AMBER)\n",
    "\n",
    "Any implicit solvent model will always be a serious approximation of explicit water molecules surrounding a solute. Before we can run such a simulation, we need to construct a topology and initial geometry of alanine dipeptide with a large number of water molecules. This can be done in several ways and for simplicity, we will first use the built-in tools from OpenMM. For this example, we can again start from a PDB file, no need for INCRD or PRMTOP files.\n",
    "\n",
    "One is in principle free to combine any biomolecule with any water force field, but not all combinations may have been carefully tested. Always check the original papers in which the biomolecular force field was published to select mathcing pairs. To avoid confusion, the latest AMBER and CHARMM force fields in OpenMM are bundeled with mathcing water force fields. Here are a few sensible combinations:\n",
    "\n",
    "* `amber14-all.xml` can be paired with any TIP or SPC model in the `amber14` directory, see https://github.com/openmm/openmm/tree/master/wrappers/python/simtk/openmm/app/data/amber14\n",
    "\n",
    "* `charm36.xml` should be combined withwater force fields in the `charmm36` directory, see https://github.com/openmm/openmm/tree/master/wrappers/python/simtk/openmm/app/data/charmm36. Note that `charmm36/water.xml` is a slightly modified form of TIP3P.\n",
    "\n",
    "* The parameters in `amber99sbildn.xml` [were tested](https://dx.doi.org/10.1002%2Fprot.22711) with TIP3P (`tip3p.xml`) and TIP4P-Ew (`tip4pex.xml`), see https://github.com/openmm/openmm/tree/master/wrappers/python/simtk/openmm/app/data.\n",
    "\n",
    "The files from the Github repository should normally never be downloaded and links are only provided for reference. These files are included in any OpenMM installation."
   ]
  },
  {
   "cell_type": "code",
   "execution_count": null,
   "metadata": {},
   "outputs": [],
   "source": [
    "pdb = PDBFile('alanine-dipeptide.pdb')\n",
    "modeller = Modeller(pdb.topology, pdb.positions)\n",
    "forcefield = ForceField('amber14-all.xml', 'amber14/tip3pfb.xml')\n",
    "modeller.addSolvent(forcefield, model='tip3p', padding=1*nanometer)\n",
    "print(modeller.topology)\n",
    "# Write a PDB file to provide a topology of the solvated\n",
    "# system to MDTraj below.\n",
    "with open('init3.pdb', 'w') as outfile:\n",
    "    PDBFile.writeFile(modeller.topology, modeller.positions, outfile)\n",
    "\n",
    "# The modeller builds a periodic box with the solute and solvent molecules.\n",
    "# PME is the method to compute long-range electristatic interactions in\n",
    "# periodic systems.\n",
    "system = forcefield.createSystem(modeller.topology, nonbondedMethod=PME, constraints=HBonds)\n",
    "integrator = LangevinIntegrator(300*kelvin, 1/picosecond, 2*femtoseconds)\n",
    "simulation = Simulation(modeller.topology, system, integrator)\n",
    "simulation.context.setPositions(modeller.positions)\n",
    "simulation.minimizeEnergy()\n",
    "simulation.reporters.append(DCDReporter('traj3.dcd', 100))\n",
    "simulation.reporters.append(StateDataReporter(stdout, 1000, step=True,\n",
    "        temperature=True, elapsedTime=True))\n",
    "simulation.reporters.append(StateDataReporter(\"scalars3.csv\", 100, time=True,\n",
    "    potentialEnergy=True, totalEnergy=True, temperature=True))\n",
    "simulation.step(100000)"
   ]
  },
  {
   "cell_type": "markdown",
   "metadata": {},
   "source": [
    "This computation was considerably slower, approximately a factor of 10 more expensive.\n",
    "\n",
    "Before going further, we plot the potential energy as function of time, to estimate the length of the equilibration phase. There was barely any equilibration in the previous two runs, mainly because the few degrees of freedom were all relatively fast motions. More complex structures tend to exhibit also slower motions. For example, in our final run with explicit water molecules the solvent needs more time to equilibrate."
   ]
  },
  {
   "cell_type": "code",
   "execution_count": null,
   "metadata": {},
   "outputs": [],
   "source": [
    "df3 = pandas.read_csv(\"scalars3.csv\")\n",
    "df3.plot(kind='line', x='#\"Time (ps)\"', y='Potential Energy (kJ/mole)')"
   ]
  },
  {
   "cell_type": "markdown",
   "metadata": {},
   "source": [
    "The figure above shows that approximately (the first) 15 picoseconds are required for the equilibration. Results for these steps need to be removed before performing any analysis. A single MD step takes 2 femtoseconds and only every 100 steps, a frame is written to the PDB file, which means that the first 75 frames from the trajectory should be removed. For the visualization, we still look at all steps."
   ]
  },
  {
   "cell_type": "code",
   "execution_count": null,
   "metadata": {},
   "outputs": [],
   "source": [
    "traj3 = mdtraj.load('traj3.dcd', top='init3.pdb')\n",
    "view = nglview.show_mdtraj(traj3)\n",
    "view.clear_representations()\n",
    "view.add_licorice()\n",
    "view.add_unitcell()\n",
    "view"
   ]
  },
  {
   "cell_type": "markdown",
   "metadata": {},
   "source": [
    "A few remarks on the visualization:\n",
    "\n",
    "- The absolute position of the dipeptide relative to the box is not crucial. Due to the periodic boundary contions, all molecules interact with an infinitely large environment, of which the visualization only shows a small fragment.\n",
    "\n",
    "- The dipeptide slowly diffuses through the liquid, which is the expected behavior. Water molecules make larger jumps because they are smaller and lighter.\n",
    "\n",
    "In the next cell, the equilibration phase is discarded and the water molecules are removed, before making the Ramachandran plot."
   ]
  },
  {
   "cell_type": "code",
   "execution_count": null,
   "metadata": {},
   "outputs": [],
   "source": [
    "traj3.restrict_atoms(traj3.topology.select(\"protein\"))\n",
    "plot_ramachandran(traj3[75:])"
   ]
  },
  {
   "cell_type": "markdown",
   "metadata": {},
   "source": [
    "The Ramachandran plot is strongly influenced by the choice of solvent model. Already for a simple dipeptide, the limitations of an implicit solvent model are clear. The reason is that the amide groups participate in the hyrogen-bonding network of the solvent, involving specific and directional interactions, which are absent in implicit solvent models.\n",
    "\n",
    "Another difference with the first two runs is the slower change of the back-bone angles. There are fewer changes between conformations and switching also takes longer. This is due to the friction with and the inertia of the surrounding water molecules. Hence, a single time step with explicit solvent is more costly and one has to peform longer simulations because water slows down conformational changes. For this reason, implicit solvent models are still popular, despite the fact that they are very approximate."
   ]
  },
  {
   "cell_type": "markdown",
   "metadata": {},
   "source": [
    "# 4. Explicit solvent model (CHARMM without CMAP)\n",
    "\n",
    "**<span style=\"color:#A03;font-size:14pt\">\n",
    "&#x270B; HANDS-ON! &#x1F528;\n",
    "</span>**\n",
    "\n",
    "> CHARMM-compatible PDB and PSF files are not included in this example. Follow the instructions below to create these files and test them with the code cells provided below.\n",
    "\n",
    "\n",
    "Before using [CHARMM-GUI](http://charmm-gui.org), we first need to create a simple PDB file of a single alanine residue, by stripping this part out of a larger PDB file. Put the following in a file `ala.pdb`:\n",
    "\n",
    "```\n",
    "ATOM      7  N   ALA X   2       8.270  24.640   0.690  1.00  0.00            \n",
    "ATOM      9  CA  ALA X   2       7.480  23.690  -0.190  1.00  0.00            \n",
    "ATOM     11  CB  ALA X   2       8.470  23.160  -1.270  1.00  0.00            \n",
    "ATOM     15  C   ALA X   2       6.730  22.590   0.490  1.00  0.00            \n",
    "ATOM     16  O   ALA X   2       7.340  21.880   1.280  1.00  0.00            \n",
    "TER\n",
    "END\n",
    "```\n",
    "\n",
    "This was used as PDB input file for the [CHARMM-GUI Solution Builder](http://charmm-gui.org/?doc=input/solution), using the following options:\n",
    "\n",
    "- Start page: select ala.pdb for upload and set PDB format to PDB.\n",
    "- Page 1 (PDB Info): keep default settings.\n",
    "- Page 2 (PDB Info): apply terminal patching with ACE and CT3.\n",
    "- Page 3 (CHARMM PDB): disable \"include ions\", for consistency with the previous example.\n",
    "- Page 4 (Solvator): keep default settings.\n",
    "- Page 5 (PBC Setup): keep default settings.\n",
    "- Page 6 (Input generator): click on the red `download.tgz` button and save it as `charmm-.\n",
    "\n",
    "Unpack the TGZ file and make sure all its contents end up in a subdirectory `charmm-gui-nocmap` next to the python notebook. The code cells below will load various files from the `charmm-gui-nocmap` directory to run a simulation with the CHARMM36 force field. These files include geometry and topology of the solvated dipeptide and CHARMM36 force field parameters."
   ]
  },
  {
   "cell_type": "code",
   "execution_count": null,
   "metadata": {},
   "outputs": [],
   "source": [
    "def readBox(fnbox):\n",
    "    \"\"\"Read the box size from a step2.1_waterbox.prm file.\"\"\"\n",
    "    with open(fnbox) as f:\n",
    "        for line in f:\n",
    "            segments = line.split('=')\n",
    "            if segments[0].strip() == \"SET A\":\n",
    "                a = float(segments[1])\n",
    "            if segments[0].strip() == \"SET B\":\n",
    "                b = float(segments[1])\n",
    "            if segments[0].strip() == \"SET A\":\n",
    "                c = float(segments[1])\n",
    "    return a*angstroms, b*angstroms, c*angstroms\n",
    "\n",
    "pdb = PDBFile('charmm-gui-nocmap/step3_pbcsetup.pdb')\n",
    "psf = CharmmPsfFile('charmm-gui-nocmap/step3_pbcsetup.psf')\n",
    "psf.setBox(*readBox('charmm-gui-nocmap/step2.1_waterbox.prm'))\n",
    "params = CharmmParameterSet(\n",
    "    \"charmm-gui-nocmap/toppar/par_all36m_prot.prm\",\n",
    "    \"charmm-gui-nocmap/toppar/top_all36_prot.rtf\",\n",
    "    \"charmm-gui-nocmap/toppar/toppar_water_ions.str\",\n",
    ")\n",
    "\n",
    "system = psf.createSystem(params, nonbondedMethod=PME, constraints=HBonds)\n",
    "integrator = LangevinIntegrator(300*kelvin, 1/picosecond, 2*femtoseconds)\n",
    "simulation = Simulation(psf.topology, system, integrator)\n",
    "simulation.context.setPositions(pdb.positions)\n",
    "simulation.minimizeEnergy()\n",
    "simulation.reporters.append(DCDReporter('traj4.dcd', 100))\n",
    "simulation.reporters.append(StateDataReporter(stdout, 100, step=True,\n",
    "        temperature=True, elapsedTime=True))\n",
    "simulation.reporters.append(StateDataReporter(\"scalars4.csv\", 100, time=True,\n",
    "    potentialEnergy=True, totalEnergy=True, temperature=True))\n",
    "simulation.step(100000)"
   ]
  },
  {
   "cell_type": "code",
   "execution_count": null,
   "metadata": {},
   "outputs": [],
   "source": [
    "df4 = pandas.read_csv(\"scalars4.csv\")\n",
    "df4.plot(kind='line', x='#\"Time (ps)\"', y='Potential Energy (kJ/mole)')"
   ]
  },
  {
   "cell_type": "code",
   "execution_count": null,
   "metadata": {},
   "outputs": [],
   "source": [
    "traj4 = mdtraj.load('traj4.dcd', top='charmm-gui-nocmap/step3_pbcsetup.psf')\n",
    "view = nglview.show_mdtraj(traj4)\n",
    "view.clear_representations()\n",
    "view.add_licorice()\n",
    "view.add_unitcell()\n",
    "view"
   ]
  },
  {
   "cell_type": "code",
   "execution_count": null,
   "metadata": {},
   "outputs": [],
   "source": [
    "traj4.restrict_atoms(traj4.topology.select(\"protein\"))\n",
    "# non-standard atom names are needed due to quirky CHARMM atom names.\n",
    "plot_ramachandran(traj4, ['CY', 'N', 'CA', 'C'], ['N', 'CA', 'C', 'NT'])"
   ]
  },
  {
   "cell_type": "markdown",
   "metadata": {},
   "source": [
    "# 4. Explicit solvent model (CHARMM with CMAP)\n",
    "\n",
    "The failure of CHARMM-GUI to add the CMAP terms in the previous example is a consequence of how the CHARMM36 residue topologies are stored in the file `top_all36_prot.rtf`. To circumvent this issue, one as to use one large residue for the entire dipeptide with label `ALAD`. This is not as straightforward and requires us to jump through a few hoops.\n",
    "\n",
    "**<span style=\"color:#A03;font-size:14pt\">\n",
    "&#x270B; HANDS-ON! &#x1F528;\n",
    "</span>**\n",
    "\n",
    "> Prepare new CHARMM compatible PDB and PSF files with CHARMM-GUI, by following the steps below.\n",
    "\n",
    "- Create a file `alad.pdb`, which is almost the same as the given `alanine-dipeptide.pdb` file. The only differences are (i) all atoms are part of the same `ALAD` residue and (ii) a residue index is added. (This must be present to make CHARMM-GUI work. You should have the following:\n",
    "\n",
    "```\n",
    "ATOM      1 HH31 ALADA   2       2.000   1.000  -0.000  1.00  0.00\n",
    "ATOM      2  CH3 ALADA   2       2.000   2.090   0.000  1.00  0.00\n",
    "ATOM      3 HH32 ALADA   2       1.486   2.454   0.890  1.00  0.00\n",
    "ATOM      4 HH33 ALADA   2       1.486   2.454  -0.890  1.00  0.00\n",
    "ATOM      5  C   ALADA   2       3.427   2.641  -0.000  1.00  0.00\n",
    "ATOM      6  O   ALADA   2       4.391   1.877  -0.000  1.00  0.00\n",
    "ATOM      7  N   ALADA   2       3.555   3.970  -0.000  1.00  0.00\n",
    "ATOM      8  H   ALADA   2       2.733   4.556  -0.000  1.00  0.00\n",
    "ATOM      9  CA  ALADA   2       4.853   4.614  -0.000  1.00  0.00\n",
    "ATOM     10  HA  ALADA   2       5.408   4.316   0.890  1.00  0.00\n",
    "ATOM     11  CB  ALADA   2       5.661   4.221  -1.232  1.00  0.00\n",
    "ATOM     12  HB1 ALADA   2       5.123   4.521  -2.131  1.00  0.00\n",
    "ATOM     13  HB2 ALADA   2       6.630   4.719  -1.206  1.00  0.00\n",
    "ATOM     14  HB3 ALADA   2       5.809   3.141  -1.241  1.00  0.00\n",
    "ATOM     15  C   ALADA   2       4.713   6.129   0.000  1.00  0.00\n",
    "ATOM     16  O   ALADA   2       3.601   6.653   0.000  1.00  0.00\n",
    "ATOM     17  N   ALADA   2       5.846   6.835   0.000  1.00  0.00\n",
    "ATOM     18  H   ALADA   2       6.737   6.359  -0.000  1.00  0.00\n",
    "ATOM     19  CH3 ALADA   2       5.846   8.284   0.000  1.00  0.00\n",
    "ATOM     20 HH31 ALADA   2       4.819   8.648   0.000  1.00  0.00\n",
    "ATOM     21 HH32 ALADA   2       6.360   8.648   0.890  1.00  0.00\n",
    "ATOM     22 HH33 ALADA   2       6.360   8.648  -0.890  1.00  0.00\n",
    "TER   \n",
    "END   \n",
    "```\n",
    "\n",
    "Start a new session in the [CHARMM-GUI Solution Builder](http://charmm-gui.org/?doc=input/solution), using the following options:\n",
    "\n",
    "- Start page: select alad.pdb for upload and set PDB format to PDB.\n",
    "- Page 1 (PDB Info): check the \"hetero\" box because CHARMM-GUI can only recognize the atoms as hetero-atoms.\n",
    "- Page 2 (PDB Info): under \"Reading Hetero Chain Residues\", selected \"Rename to ALAD\". Leave other settings as they are.\n",
    "- Page 3 (CHARMM PDB): disable \"include ions\", for consistency with the previous example.\n",
    "- Page 4 (Solvator): keep default settings.\n",
    "- Page 5 (PBC Setup): keep default settings.\n",
    "- Page 6 (Input generator): click on the red `download.tgz` button and save it as `charmm-gui-cmap.tgz`.\n",
    "\n",
    "Unpack the TGZ file and make sure all its contents end up in a subdirectory `charmm-gui-cmap` next to the python notebook. With that, the following code should work."
   ]
  },
  {
   "cell_type": "code",
   "execution_count": null,
   "metadata": {},
   "outputs": [],
   "source": [
    "pdb = PDBFile('charmm-gui-cmap/step3_pbcsetup.pdb')\n",
    "psf = CharmmPsfFile('charmm-gui-cmap/step3_pbcsetup.psf')\n",
    "psf.setBox(*readBox('charmm-gui-cmap/step2.1_waterbox.prm'))\n",
    "params = CharmmParameterSet(\n",
    "    \"charmm-gui-cmap/toppar/par_all36m_prot.prm\",\n",
    "    \"charmm-gui-cmap/toppar/top_all36_prot.rtf\",\n",
    "    \"charmm-gui-cmap/toppar/toppar_water_ions.str\",\n",
    ")\n",
    "\n",
    "system = psf.createSystem(params, nonbondedMethod=PME, constraints=HBonds)\n",
    "integrator = LangevinIntegrator(300*kelvin, 1/picosecond, 2*femtoseconds)\n",
    "simulation = Simulation(psf.topology, system, integrator)\n",
    "simulation.context.setPositions(pdb.positions)\n",
    "simulation.minimizeEnergy()\n",
    "simulation.reporters.append(DCDReporter('traj5.dcd', 100))\n",
    "simulation.reporters.append(StateDataReporter(stdout, 100, step=True,\n",
    "        temperature=True, elapsedTime=True))\n",
    "simulation.reporters.append(StateDataReporter(\"scalars5.csv\", 100, time=True,\n",
    "    potentialEnergy=True, totalEnergy=True, temperature=True))\n",
    "simulation.step(100000)"
   ]
  },
  {
   "cell_type": "code",
   "execution_count": null,
   "metadata": {},
   "outputs": [],
   "source": [
    "df5 = pandas.read_csv(\"scalars5.csv\")\n",
    "df5.plot(kind='line', x='#\"Time (ps)\"', y='Potential Energy (kJ/mole)')"
   ]
  },
  {
   "cell_type": "code",
   "execution_count": null,
   "metadata": {},
   "outputs": [],
   "source": [
    "traj5 = mdtraj.load('traj5.dcd', top='charmm-gui-cmap/step3_pbcsetup.psf')\n",
    "view = nglview.show_mdtraj(traj5)\n",
    "view.clear_representations()\n",
    "view.add_licorice()\n",
    "view.add_unitcell()\n",
    "view"
   ]
  },
  {
   "cell_type": "code",
   "execution_count": null,
   "metadata": {},
   "outputs": [],
   "source": [
    "traj5.restrict_atoms(traj5.topology.select(\"protein\"))\n",
    "# CHARMM has even quirkier atom names for ALAD. \n",
    "plot_ramachandran(traj5, ['CLP', 'NL', 'CA', 'CRP'], ['NL', 'CA', 'CRP', 'NR'])"
   ]
  },
  {
   "cell_type": "markdown",
   "metadata": {},
   "source": [
    "# 5. Explicit solvent model (AMBER from CHARMM-GUI)\n",
    "\n",
    "You can skip this section. While this is supposed to work, it doesn't. (Some of required files returned by CHARMM-GUI are empty. Others contain garbage.)\n",
    "\n",
    "To create the intput files, follow exactly the same procedure as in example 4, but change the force field from `CHARMM36m` to `AMBER`. Unpack the resulting files in a directory `charmm-gui-amber`, with which the following code cell should work."
   ]
  },
  {
   "cell_type": "code",
   "execution_count": null,
   "metadata": {},
   "outputs": [],
   "source": [
    "prmtop = AmberPrmtopFile('charmm-gui-amber/amber/TODO.prmtop')\n",
    "inpcrd = AmberInpcrdFile('charmm-gui-amber/amber/TODO.inpcrd')\n",
    "system = prmtop.createSystem(nonbondedMethod=PME, constraints=HBonds)\n",
    "integrator = LangevinIntegrator(300*kelvin, 1/picosecond, 0.002*picoseconds)\n",
    "simulation = Simulation(prmtop.topology, system, integrator)\n",
    "simulation.context.setPositions(inpcrd.positions)\n",
    "simulation.minimizeEnergy()\n",
    "simulation.reporters.append(DCDReporter('traj6.dcd', 100))\n",
    "simulation.reporters.append(StateDataReporter(stdout, 1000, step=True,\n",
    "        temperature=True, elapsedTime=True))\n",
    "simulation.reporters.append(StateDataReporter(\"scalars6.csv\", 100, time=True,\n",
    "    potentialEnergy=True, totalEnergy=True, temperature=True))\n",
    "simulation.step(100000)"
   ]
  }
 ],
 "metadata": {
  "kernelspec": {
   "display_name": "Python 3",
   "language": "python",
   "name": "python3"
  },
  "language_info": {
   "codemirror_mode": {
    "name": "ipython",
    "version": 3
   },
   "file_extension": ".py",
   "mimetype": "text/x-python",
   "name": "python",
   "nbconvert_exporter": "python",
   "pygments_lexer": "ipython3",
   "version": "3.7.4"
  }
 },
 "nbformat": 4,
 "nbformat_minor": 2
}
