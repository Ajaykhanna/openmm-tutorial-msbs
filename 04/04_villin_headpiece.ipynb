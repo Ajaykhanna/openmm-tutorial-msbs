{
 "cells": [
  {
   "cell_type": "code",
   "execution_count": null,
   "metadata": {},
   "outputs": [],
   "source": [
    "%matplotlib widget\n",
    "from sys import stdout\n",
    "from simtk.openmm.app import *\n",
    "from simtk.openmm import *\n",
    "from simtk.unit import *\n",
    "import numpy as np\n",
    "import nglview\n",
    "import mdtraj\n",
    "import pandas\n",
    "import matplotlib.pyplot as plt"
   ]
  },
  {
   "cell_type": "markdown",
   "metadata": {},
   "source": [
    "The PDB file for 1YRF contains more information than we need. It holds several possible states of some residues mixed into one file and OpenMM cannot handle this. Most atoms positions are the same for all these states, but a few have an extra `A`, `B`, `C`, ... just after the atom name. The following function splits such a PDB file into multiples ones. Each of these files is suitable for starting an OpenMM simulation."
   ]
  },
  {
   "cell_type": "code",
   "execution_count": null,
   "metadata": {},
   "outputs": [],
   "source": [
    "def split_pdb(fn_pdb):\n",
    "    pos = 16\n",
    "    groups = {}\n",
    "    counter = 0\n",
    "    with open(fn_pdb) as f:\n",
    "        for line in f:\n",
    "            if line.startswith(\"ATOM\"):\n",
    "                state = line[pos]\n",
    "                line = line[:pos] + \" \" + line[pos+1:]\n",
    "                groups.setdefault(state, []).append((counter, line))\n",
    "                counter += 1\n",
    "    for key, lines_group in groups.items():\n",
    "        if key == \" \":\n",
    "            continue\n",
    "        lines_both = lines_group + groups[\" \"]\n",
    "        lines_both.sort()\n",
    "        with open(\"{}_{}.pdb\".format(fn_pdb[:-4], key.lower()), \"w\") as f:\n",
    "            for counter, line in lines_both:\n",
    "                f.write(line)\n",
    "split_pdb(\"1yrf.pdb\")"
   ]
  },
  {
   "cell_type": "code",
   "execution_count": null,
   "metadata": {},
   "outputs": [],
   "source": [
    "pdb = PDBFile('1yrf_a.pdb')\n",
    "modeller = Modeller(pdb.topology, pdb.positions)\n",
    "forcefield = ForceField('amber14-all.xml', 'amber14/tip3pfb.xml')\n",
    "modeller.addHydrogens(forcefield)\n",
    "modeller.addSolvent(forcefield, model='tip3p', padding=1*nanometer)\n",
    "integrator = LangevinIntegrator(300*kelvin, 1/picosecond, 2*femtoseconds)\n",
    "system = forcefield.createSystem(modeller.topology, nonbondedMethod=PME, constraints=HBonds)\n",
    "simulation = Simulation(modeller.topology, system, integrator)\n",
    "simulation.context.setPositions(modeller.positions)\n",
    "simulation.minimizeEnergy(maxIterations=100)\n",
    "positions = simulation.context.getState(getPositions=True).getPositions()\n",
    "with open('init.pdb', 'w') as f:\n",
    "    PDBFile.writeFile(simulation.topology, positions, f)"
   ]
  },
  {
   "cell_type": "code",
   "execution_count": null,
   "metadata": {},
   "outputs": [],
   "source": [
    "simulation.reporters = []\n",
    "simulation.reporters.append(DCDReporter('traj.dcd', 100))\n",
    "simulation.reporters.append(StateDataReporter(stdout, 1000, step=True,\n",
    "        temperature=True, elapsedTime=True))\n",
    "simulation.reporters.append(StateDataReporter(\"scalars.csv\", 100, step=True, time=True,\n",
    "    potentialEnergy=True, totalEnergy=True, temperature=True))\n",
    "simulation.step(100000)"
   ]
  },
  {
   "cell_type": "code",
   "execution_count": null,
   "metadata": {},
   "outputs": [],
   "source": [
    "df = pandas.read_csv(\"scalars.csv\")\n",
    "df.plot(kind='line', x='#\"Time (ps)\"', y='Potential Energy (kJ/mole)')"
   ]
  },
  {
   "cell_type": "code",
   "execution_count": null,
   "metadata": {},
   "outputs": [],
   "source": [
    "traj = mdtraj.load('traj.dcd', top='init.pdb')\n",
    "view = nglview.show_mdtraj(traj)\n",
    "view"
   ]
  }
 ],
 "metadata": {
  "kernelspec": {
   "display_name": "Python 3",
   "language": "python",
   "name": "python3"
  },
  "language_info": {
   "codemirror_mode": {
    "name": "ipython",
    "version": 3
   },
   "file_extension": ".py",
   "mimetype": "text/x-python",
   "name": "python",
   "nbconvert_exporter": "python",
   "pygments_lexer": "ipython3",
   "version": "3.7.4"
  }
 },
 "nbformat": 4,
 "nbformat_minor": 2
}
