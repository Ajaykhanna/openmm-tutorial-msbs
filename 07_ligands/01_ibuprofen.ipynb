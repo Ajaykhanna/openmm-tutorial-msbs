{
 "cells": [
  {
   "cell_type": "markdown",
   "metadata": {},
   "source": [
    "# Ibuprofen in gas phase\n",
    "\n",
    "**Disclaimer: this tutorial does not work on Windows because the [openforcefield](https://openforcefield.org/) package is only released for MacOS and Linux. For now, it is recommended to run this notebook on a (Linux) HPC as explained in `03_elsewhere/01_run_openmm_on_a_hpc.ipynb`. Alternatively, Windows users may install [WSL](https://docs.microsoft.com/en-us/windows/wsl/install-win10) or [VirtualBox](https://www.virtualbox.org/) to run a Linux operating system locally, on which OpenMM and openforcefield can be installed.**\n",
    "\n",
    "This notebook demonstrates a simple use case of the [Open Force Field (OFF)](https://openforcefield.org/) toolit. [OFF](https://openforcefield.org/) is a relatively new initiative and aims to bring more transparency into the process of generating force fields (for small molecules) through open science and open source principles.\n",
    "\n",
    "We will create a force field for a small molecule, for which no standard force fields are available, using the [SMIRNOFF99Frosst](https://github.com/openforcefield/smirnoff99Frosst) set of parameters. The Smirnoff parameters cover a very broad set of organic small drug-like molecules. This parameterization is not yet intended to be competitive in accuracy with older initiatives like GAFF, OPLS or CGENFF. Instead it focuses more on extensibility, to enable incremental improvements, and exploitation of modern cheminformatics libraries. More details can be found here: [10.1021/acs.jctc.8b00640](https://pubs.acs.org/doi/10.1021/acs.jctc.8b00640)\n",
    "\n",
    "This notebook uses ibuprofen as a simple test case. In principle any small drug-like molecule could be used instead and your are encouraged to try your favorite compound from [PubChem](https://pubchem.ncbi.nlm.nih.gov/)."
   ]
  },
  {
   "cell_type": "markdown",
   "metadata": {},
   "source": [
    "## 1. Downloading and converting a molecule from PubChem"
   ]
  },
  {
   "cell_type": "code",
   "execution_count": null,
   "metadata": {},
   "outputs": [],
   "source": [
    "# Download ibuprofen SDF file from PubChem.\n",
    "from openbabel import openbabel\n",
    "import requests\n",
    "\n",
    "cid = '3672'  # This is the pubchem ID for ibuprofen\n",
    "url = f\"https://pubchem.ncbi.nlm.nih.gov/rest/pug/compound/CID/{cid}/record/SDF/?record_type=3d&response_type=save\"\n",
    "with open(f\"CID_{cid}.sdf\", \"w\") as f:\n",
    "    f.write(requests.get(url).text)\n",
    "\n",
    "# Convert the SDF to a PDB file with openbabel\n",
    "obConversion = openbabel.OBConversion()\n",
    "obConversion.SetInAndOutFormats(\"sdf\", \"pdb\")\n",
    "mol = openbabel.OBMol()\n",
    "# Open Babel will uncompress automatically\n",
    "obConversion.ReadFile(mol, f\"CID_{cid}.sdf\")\n",
    "obConversion.WriteFile(mol, f\"CID_{cid}.pdb\")"
   ]
  },
  {
   "cell_type": "markdown",
   "metadata": {},
   "source": [
    "## 2. Assigning SMIRNOFF99Frosst parameters\n",
    "\n",
    "Only in the following code, the Open Force Field toolkit is used."
   ]
  },
  {
   "cell_type": "code",
   "execution_count": null,
   "metadata": {},
   "outputs": [],
   "source": [
    "from openforcefield.topology import Molecule\n",
    "from openforcefield.typing.engines.smirnoff import ForceField\n",
    "\n",
    "# - Load the topology from the SDF file.\n",
    "molecule = Molecule(f\"CID_{cid}.sdf\")\n",
    "\n",
    "# - Load the SMIRNOFF99Frosst force field definition.\n",
    "force_field = ForceField(\"test_forcefields/smirnoff99Frosst.offxml\")\n",
    "\n",
    "# - Create an OpenMM system object.\n",
    "# There is a lot (!!) going on under the hood, including\n",
    "# the calculation of atomic charges.\n",
    "system = force_field.create_openmm_system(molecule.to_topology())"
   ]
  },
  {
   "cell_type": "markdown",
   "metadata": {},
   "source": [
    "## 3. Performing a short molecular dynamics simulation\n",
    "\n",
    "The code below contains nothing new compared to the molecular dynamics simulations on alanine dipeptide in section 2."
   ]
  },
  {
   "cell_type": "code",
   "execution_count": null,
   "metadata": {},
   "outputs": [],
   "source": [
    "from simtk.openmm.app import *\n",
    "from simtk.openmm import *\n",
    "from simtk.unit import *\n",
    "import numpy as np\n",
    "from sys import stdout\n",
    "\n",
    "pdb = PDBFile(f\"CID_{cid}.pdb\")\n",
    "integrator = LangevinIntegrator(300*kelvin, 1/picosecond, 2*femtoseconds)\n",
    "simulation = Simulation(pdb.topology, system, integrator)\n",
    "simulation.context.setPositions(pdb.positions)\n",
    "simulation.minimizeEnergy()\n",
    "\n",
    "with open(\"init.pdb\", \"w\") as f:\n",
    "    PDBFile.writeFile(simulation.topology, pdb.positions, f)\n",
    "simulation.reporters = []\n",
    "simulation.reporters.append(DCDReporter('traj.dcd', 100))\n",
    "simulation.reporters.append(StateDataReporter(stdout, 1000, step=True,\n",
    "                                              temperature=True, elapsedTime=True))\n",
    "simulation.reporters.append(StateDataReporter(\"scalars.csv\", 100, time=True,\n",
    "                                              potentialEnergy=True, totalEnergy=True, temperature=True))\n",
    "simulation.step(10000)"
   ]
  },
  {
   "cell_type": "code",
   "execution_count": null,
   "metadata": {},
   "outputs": [],
   "source": [
    "import mdtraj\n",
    "import nglview\n",
    "\n",
    "traj = mdtraj.load('traj.dcd', top='init.pdb')\n",
    "traj.superpose(traj, 0)\n",
    "nglview.show_mdtraj(traj)"
   ]
  }
 ],
 "metadata": {
  "kernelspec": {
   "display_name": "Python 3",
   "language": "python",
   "name": "python3"
  },
  "language_info": {
   "codemirror_mode": {
    "name": "ipython",
    "version": 3
   },
   "file_extension": ".py",
   "mimetype": "text/x-python",
   "name": "python",
   "nbconvert_exporter": "python",
   "pygments_lexer": "ipython3",
   "version": "3.7.5"
  },
  "latex_envs": {
   "LaTeX_envs_menu_present": true,
   "autoclose": true,
   "autocomplete": true,
   "bibliofile": "biblio.bib",
   "cite_by": "apalike",
   "current_citInitial": 1,
   "eqLabelWithNumbers": true,
   "eqNumInitial": 1,
   "hotkeys": {
    "equation": "Ctrl-E",
    "itemize": "Ctrl-I"
   },
   "labels_anchors": false,
   "latex_user_defs": false,
   "report_style_numbering": false,
   "user_envs_cfg": false
  }
 },
 "nbformat": 4,
 "nbformat_minor": 2
}
