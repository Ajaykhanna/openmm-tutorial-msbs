{
 "cells": [
  {
   "cell_type": "markdown",
   "metadata": {},
   "source": [
    "# Internal coordinates and averages\n",
    "\n",
    "This notebooks focuses on internal coordinates, distances, angle and dihedral angles. The name \"internal coordinates\" referes to the fact that they are insensitive to external (or global) rotations or translations of  the system. \n",
    "\n",
    "These internal coordinates will also be used to demonstrate the computation of averages of time series and the error on such averages."
   ]
  },
  {
   "cell_type": "code",
   "execution_count": null,
   "metadata": {},
   "outputs": [],
   "source": [
    "%matplotlib widget\n",
    "import numpy as np\n",
    "import mdtraj\n",
    "import pandas\n",
    "import matplotlib.pyplot as plt\n",
    "import nglview"
   ]
  },
  {
   "cell_type": "markdown",
   "metadata": {},
   "source": [
    "The following cell sets up nglview with GUI controls (under development). When clicking on an atom, one can find all its details under the tab `Extra` and then `Picked`. We will often need the atom index in this notebook."
   ]
  },
  {
   "cell_type": "code",
   "execution_count": null,
   "metadata": {},
   "outputs": [],
   "source": [
    "traj = mdtraj.load('traj.dcd', top='init.pdb')\n",
    "df = pandas.read_csv(\"scalars.csv\")\n",
    "view = nglview.show_mdtraj(traj, gui=True)\n",
    "view.add_representation(\"ball+stick\", selection=\"protein\")\n",
    "view"
   ]
  },
  {
   "cell_type": "markdown",
   "metadata": {},
   "source": [
    "## 1. Interatomic distances\n",
    "\n",
    "The following example just computes two bond lengths as function of time, namely for the `N-CA` and `CA-C` bonds in the leucine residue. Note that all indices in Python start counting from zero, so the bond between the first two atoms in the PDB and DCD files is denoted by `[0, 1]`.\n",
    "\n",
    "The documnetation of `compute_distances` can be found here: http://mdtraj.org/latest/api/generated/mdtraj.compute_distances.html#mdtraj.compute_distances"
   ]
  },
  {
   "cell_type": "code",
   "execution_count": null,
   "metadata": {},
   "outputs": [],
   "source": [
    "distances = mdtraj.compute_distances(traj, [[0, 1], [1, 2]])\n",
    "print(distances.shape)\n",
    "print(distances[400, 0])\n",
    "plt.close(1)  # This is needed to rerun the code cell correctly\n",
    "plt.figure(1)\n",
    "for counter, col in enumerate(distances.T):\n",
    "    plt.plot(df[\"Time (ps)\"], col, label=str(counter))\n",
    "plt.xlabel(\"Time [ps]\")\n",
    "plt.ylabel(\"Distances [nm]\")\n",
    "plt.legend(loc=0)\n",
    "plt.show()"
   ]
  },
  {
   "cell_type": "markdown",
   "metadata": {},
   "source": [
    "**<span style=\"color:#A03;font-size:14pt\">\n",
    "&#x270B; HANDS-ON! &#x1F528;\n",
    "</span>**\n",
    "\n",
    "> For the simple bond lengths shown above, the initialization (warming up of the protein during the first 5 picoseconds) seems to have little effect.\n",
    "> Try to find the atomic indices of stronly electrostatically interacting pairs, e.g. the nitrogen in the lysine side changes interact with carboxilic groups in a glutamine and the c-terminus. Plot the distances between two pairs of electrostatically interacting atoms. Can you recognize the thermalization in these interatomic distances? Add two more distances, one for a hydrogen bond in an alpha helix and one outside an alpha helix."
   ]
  },
  {
   "cell_type": "markdown",
   "metadata": {},
   "source": [
    "## 2. Valence and dihedral angles\n",
    "\n",
    "A similar analysis for the C-S-C angle, the first backbone dihedral angle and a side-chain dihedral angle, is carried out with [compute_angles](http://mdtraj.org/latest/api/generated/mdtraj.compute_angles.html) and [compute_dihedrals](http://mdtraj.org/latest/api/generated/mdtraj.compute_dihedrals.html) in the following code cell."
   ]
  },
  {
   "cell_type": "code",
   "execution_count": null,
   "metadata": {},
   "outputs": [],
   "source": [
    "angles = mdtraj.compute_angles(traj, [[171, 172, 173]])\n",
    "dihedrals = mdtraj.compute_dihedrals(traj, [[0, 1, 2, 21], [222, 225, 226, 231]])\n",
    "print(angles.shape)\n",
    "plt.close(2)  # This is needed to rerun the code cell correctly\n",
    "plt.figure(2)\n",
    "plt.plot(df[\"Time (ps)\"], angles[:, 0]/np.pi*180, label='C-S-C angle')\n",
    "plt.plot(df[\"Time (ps)\"], dihedrals[:, 0]/np.pi*180, label='N-CA-C-N angle (psi)')\n",
    "plt.plot(df[\"Time (ps)\"], dihedrals[:, 1]/np.pi*180, label='CA-CB-OG-HG angle (chi2)')\n",
    "plt.xlabel(\"Time [ps]\")\n",
    "plt.ylabel(\"Angles [deg]\")\n",
    "plt.legend(loc=0)\n",
    "plt.show()"
   ]
  },
  {
   "cell_type": "markdown",
   "metadata": {},
   "source": [
    "Valence angles in proteins are usually rather stiff while the (psi and phi) dihedrals in the backbone and the chiN dihedrals in the side chains explain most of the conformational changes."
   ]
  },
  {
   "cell_type": "markdown",
   "metadata": {},
   "source": [
    "## 3. Averages, fluctuations, error on the average\n",
    "\n",
    "Computing averages and fluctuations (standard deviations) of a time-dependent data series is easily carried out with Numpy. The following code cell contains some examples."
   ]
  },
  {
   "cell_type": "code",
   "execution_count": null,
   "metadata": {},
   "outputs": [],
   "source": [
    "print(\"average distance 0 [nm]\", distances[:, 0].mean())\n",
    "print(\"average distance 0 [nm]\", np.mean(distances[:, 0]))\n",
    "print(\"all average distances [nm]\", distances.mean(axis=0))\n",
    "print(\"all average distances [nm]\", np.mean(distances, axis=0))\n",
    "print(\"st.dev. distance 0 [nm]\", distances[:, 0].std())\n",
    "print(\"st.dev. distance 0 [nm]\", np.std(distances[:, 0]))\n",
    "print(\"all st.dev. distances [nm]\", distances.std(axis=0))\n",
    "print(\"all st.dev. distances [nm]\", np.std(distances, axis=0))"
   ]
  },
  {
   "cell_type": "markdown",
   "metadata": {},
   "source": [
    "The quantities from an MD simulation, of which an average is computed, are stochastical. Hence, any average over a finite number of steps is also a stochastic quantity, subject to an uncertainty. When computing an average over $N$ **uncorrelated** data points, the error on the average is\n",
    "\n",
    "$$\\sigma_{\\langle a \\rangle} = \\sqrt{\\frac{1}{N-1}\\sum_{i=1}^N (a_i - \\langle a \\rangle)^2}$$\n",
    "\n",
    "This formular is rarely useful for computing averages (over time) of quantities from MD simulations, because the values for subsequent time steps are often corellated. (See e.g. the inter-atomic distances for electrostatically interacting pairs of atoms.)\n",
    "\n",
    "One should correct the factor $1/(N-1)$ and replace $N$ by the number of uncorrelated data points in a time series. The function `num_independent` below estimates this number of independent samples with the block-averaging method.\n",
    "\n",
    "**TODO: add reference and double check algorithm with Allen and Tildesley.**\n",
    "\n",
    "**TODO: take a look at the following paper: https://pubs.acs.org/doi/10.1021/acs.jctc.5b00784**"
   ]
  },
  {
   "cell_type": "code",
   "execution_count": null,
   "metadata": {},
   "outputs": [],
   "source": [
    "def averror(values, num=None):\n",
    "    \"\"\"Compute the error on the average of uncorrelated samples.\"\"\"\n",
    "    if num is None:\n",
    "        num = len(values)\n",
    "    elif num <= 1:\n",
    "        return np.nan\n",
    "    return np.std(values) / np.sqrt(num - 1)\n",
    "\n",
    "from scipy.optimize import minimize_scalar\n",
    "\n",
    "def num_independent(values, doplot=False):\n",
    "    \"\"\"Estimate the number of independent samples in a time series.\n",
    "    \n",
    "    This is basic implementation of the block-averaging method.\n",
    "    \n",
    "    Parameters\n",
    "    ----------\n",
    "    values\n",
    "        A time-correlated series, must be a numpy array with shape (N,).\n",
    "    maxnb\n",
    "        The maximum number of blocks to consider\n",
    "    \n",
    "    Returns\n",
    "    -------\n",
    "    error\n",
    "        The error on the average.\n",
    "    \"\"\"\n",
    "    if values.ndim != 1:\n",
    "        raise TypeError(\"Only one-dimensional arrays are supported.\")\n",
    "    bs_grid = []\n",
    "    blav_vars = []\n",
    "    bs = 1\n",
    "    while bs < len(values) / 10:\n",
    "        nb = len(values) // bs\n",
    "        blocks = values[:nb * bs].reshape(nb, bs)\n",
    "        block_averages = blocks.mean(axis=1)\n",
    "        blav_vars.append(block_averages.var(ddof=1)/(nb-1))\n",
    "        bs_grid.append(bs)\n",
    "        bs = max(bs+1, int(1.1**len(bs_grid)))\n",
    "    bs_grid = np.array(bs_grid)\n",
    "    blav_vars = np.array(blav_vars)\n",
    "    \n",
    "    def get_trend(bs):\n",
    "        trend = bs_grid / (bs + bs_grid)\n",
    "        #trend = (1 - np.exp(-bs_grid / bs))\n",
    "        prefac = np.dot(trend, blav_vars) / np.dot(trend, trend)\n",
    "        return prefac * trend\n",
    "    \n",
    "    def mismatch(bs):\n",
    "        return (((blav_vars - get_trend(bs))/bs_grid)**2).sum()\n",
    "    \n",
    "    result = minimize_scalar(mismatch, bounds=[1, len(values)*10], method='bounded')\n",
    "    optbs = result.x\n",
    "    \n",
    "    if doplot:\n",
    "        plt.figure()\n",
    "        plt.plot(bs_grid, get_trend(optbs))\n",
    "        plt.plot(bs_grid, blav_vars)\n",
    "        plt.show()\n",
    "    \n",
    "    return len(values)/optbs\n",
    "\n",
    "values = distances[:, 0]\n",
    "num = num_independent(values)\n",
    "print(\"Number of values\", len(values))\n",
    "print(\"Number of uncorellated values\", num)\n",
    "print(\"Error on average\", averror(values, num))"
   ]
  },
  {
   "cell_type": "markdown",
   "metadata": {},
   "source": [
    "**<span style=\"color:#A03;font-size:14pt\">\n",
    "&#x270B; HANDS-ON! &#x1F528;\n",
    "</span>**\n",
    "\n",
    "> Try estimating the error on the average of all internal coordinates computed so far. Does the number of independent samples correlated with the time dependence plotted previously?"
   ]
  },
  {
   "cell_type": "markdown",
   "metadata": {},
   "source": [
    "## 4. Average of a dihedral angle\n",
    "\n",
    "The average of a dihedral angle can become meaningless because these angles are subject to a periodic boundary, i.e. $\\phi=35^\\circ$ and $\\phi=395^\\circ$ represent the same dihedral angles. As a consequence, dihedral angles exceeding $180^\\circ$ will continue at $-180^\\circ$. Such discontinuous jumps result in meaningless averages.\n",
    "\n",
    "This problem can be surmounted by computing a slightly different type of average, i.e. the average cosine and sine of the angle, followed by a conversion back into an angle. For example:"
   ]
  },
  {
   "cell_type": "code",
   "execution_count": null,
   "metadata": {},
   "outputs": [],
   "source": [
    "x = np.cos(dihedrals[:, 1]).mean()\n",
    "y = np.sin(dihedrals[:, 1]).mean()\n",
    "avdihed1 = np.arctan2(y, x)\n",
    "avdihed1_wrong = dihedrals[:, 1].mean()\n",
    "print(avdihed1/np.pi*180)\n",
    "print(avdihed1_wrong/np.pi*180)\n",
    "plt.close(3)  # This is needed to rerun the code cell correctly\n",
    "plt.figure(3)\n",
    "plt.plot(df[\"Time (ps)\"], dihedrals[:, 1]/np.pi*180, label='CA-CB-OG-HG angle (chi2)')\n",
    "plt.axhline(avdihed1/np.pi*180, color='k')\n",
    "plt.axhline(avdihed1_wrong/np.pi*180, color='r')\n",
    "plt.xlabel(\"Time [ps]\")\n",
    "plt.ylabel(\"Angles [deg]\")\n",
    "plt.legend(loc=0)\n",
    "plt.show()"
   ]
  },
  {
   "cell_type": "markdown",
   "metadata": {},
   "source": [
    "In this case, the difference is small but noticable. The naive calculation of the average includes some samples close to $-180^\\circ$, whereas the alternative approach does not suffer from this issue. To understand why this works, consider a plot of the sine veruse the cosine:"
   ]
  },
  {
   "cell_type": "code",
   "execution_count": null,
   "metadata": {},
   "outputs": [],
   "source": [
    "import matplotlib.patches as mpatches\n",
    "plt.close(4)  # This is needed to rerun the code cell correctly\n",
    "plt.figure(4)\n",
    "plt.plot(np.cos(dihedrals[:, 1]), np.sin(dihedrals[:, 1]), 'k+', alpha=0.1)\n",
    "plt.plot([x], [y], 'ro')\n",
    "plt.plot([0, x], [0, y], 'r-')\n",
    "plt.gca().add_patch(mpatches.Arc([0, 0], 1, 1, angle=0, theta1=0, theta2=avdihed1/np.pi*180, color='r'))\n",
    "plt.axhline(0, color='k')\n",
    "plt.axvline(0, color='k')\n",
    "plt.gca().set_aspect('equal')\n",
    "plt.show()"
   ]
  },
  {
   "cell_type": "markdown",
   "metadata": {},
   "source": [
    "When plotting the dihedral angles as points on a circle, i.e. $x=\\cos\\phi$ and $y=\\sin\\phi$, there is no longer a discontinuity and the average is well-behaved. The angle is then derived from the average (red dot) by computing the angle with the X-axis, using the `arctan2` function. A few remarks:\n",
    "\n",
    "- The function `arctan2` takes the Y-coordinate as first argument.\n",
    "\n",
    "- This approach will not work when the dihedral angles uniformly distributed over the interval $[-180^\\circ,180^\\circ]$. In this case, the average cosine and sine are (nearly) zero and the angle with the X-axis is not (or ill) defined."
   ]
  },
  {
   "cell_type": "markdown",
   "metadata": {},
   "source": [
    "## 5. Histogram and free energy\n",
    "\n",
    "Histograms may also be convenient to characterize an internal coordinate. We will apply it here to the C-S-C angle, which is a relatively stiff mode. The angles are also [normally distributed](https://en.wikipedia.org/wiki/Normal_distribution), which can be shown by overlaying the histogram with the normal probability density.\n",
    "\n",
    "For reference, the force-field parameters for this angle can be found here:\n",
    "\n",
    "https://github.com/openmm/openmm/blob/master/wrappers/python/simtk/openmm/app/data/amber14/protein.ff14SB.xml#L3077\n",
    "\n",
    "and reads\n",
    "\n",
    "```\n",
    "<Angle angle=\"1.726130630222392\" k=\"518.816\" type1=\"protein-CT\" type2=\"protein-S\" type3=\"protein-CT\"/>\n",
    "```\n",
    "\n",
    "The equilibrium angle in degrees is $98.9^\\circ$."
   ]
  },
  {
   "cell_type": "code",
   "execution_count": null,
   "metadata": {},
   "outputs": [],
   "source": [
    "plt.close(5)  # This is needed to rerun the code cell correctly\n",
    "plt.figure(5)\n",
    "a = angles/np.pi*180  # for convenience\n",
    "bins = np.arange(85, 115, 1)\n",
    "plt.hist(a, bins, density=True)\n",
    "ava = a.mean()\n",
    "avs = a.std()\n",
    "x = np.linspace(80, 120, 79)\n",
    "# The following equation is the probability density of a\n",
    "# univariate normal distribution.\n",
    "y = np.exp(-(x - ava)**2 / (2*avs**2)) / np.sqrt(2*avs**2*np.pi)\n",
    "plt.plot(x, y)\n",
    "plt.axvline(ava, color='k')\n",
    "plt.title(\"Average = {:.1f}, Std.Dev. = {:.1f}\".format(ava, avs))\n",
    "plt.xlabel(\"C-S-C angle [deg]\")\n",
    "plt.ylabel(\"Probability density [1/deg]\")\n",
    "plt.show()"
   ]
  },
  {
   "cell_type": "markdown",
   "metadata": {},
   "source": [
    "The average is slightly different from the equilibrium value, which may be due to other force-field terms influencing the local geometry.\n",
    "\n",
    "**<span style=\"color:#A03;font-size:14pt\">\n",
    "&#x270B; HANDS-ON! &#x1F528;\n",
    "</span>**\n",
    "\n",
    "> How can you judge if the average and the equilibrium are significantly different?\n",
    "\n",
    "The empirical probabilities from the histogram can be translated into free energies (up to a constant) by employing the following relationship:\n",
    "\n",
    "$$F(\\theta) = -k_B T \\log(p(\\theta))$$\n",
    "\n",
    "This relation can also be applied to the probability density to obtain a quadratic approximation of the free energy."
   ]
  },
  {
   "cell_type": "code",
   "execution_count": null,
   "metadata": {},
   "outputs": [],
   "source": [
    "boltzmann = (1e-3 * 1.380649e-23 * 6.02214076e23)  # in kJ/mol\n",
    "temperature = 300\n",
    "# Quadratic approximation\n",
    "fc = boltzmann * temperature / avs**2  # force constant\n",
    "f = 0.5 * fc * (x - ava)**2 \n",
    "# Empiricial model, using histogram\n",
    "pe = np.histogram(a, bins, density=True)[0]\n",
    "fe = -boltzmann * temperature * np.log(pe)\n",
    "fe -= fe.min()\n",
    "\n",
    "plt.close(6)  # This is needed to rerun the code cell correctly\n",
    "plt.figure(6)\n",
    "plt.plot(x, f, label='Quadratic free energy model')\n",
    "plt.plot((bins[1:] + bins[:-1])/2, fe, label='Empirical free energy')\n",
    "plt.xlabel(\"C-S-C angle [deg]\")\n",
    "plt.ylabel(\"Free energy [kJ/mol]\")\n",
    "plt.legend(loc=0)\n",
    "plt.show()\n",
    "\n",
    "# Finally, the force constant is printed in kJ/rad^2, for comparison with the force-field parameter.\n",
    "print(fc * (180/np.pi)**2)"
   ]
  },
  {
   "cell_type": "markdown",
   "metadata": {},
   "source": [
    "Also here, the free-energy force constant deviates slightly from the AMBER force-field parameter. Again, this could be due to an influence from the environment of the C-S-C angle.\n",
    "\n",
    "**<span style=\"color:#A03;font-size:14pt\">\n",
    "&#x270B; HANDS-ON! &#x1F528;\n",
    "</span>**\n",
    "\n",
    "> Also estimate the error on the force constant."
   ]
  }
 ],
 "metadata": {
  "kernelspec": {
   "display_name": "Python 3",
   "language": "python",
   "name": "python3"
  },
  "language_info": {
   "codemirror_mode": {
    "name": "ipython",
    "version": 3
   },
   "file_extension": ".py",
   "mimetype": "text/x-python",
   "name": "python",
   "nbconvert_exporter": "python",
   "pygments_lexer": "ipython3",
   "version": "3.7.4"
  }
 },
 "nbformat": 4,
 "nbformat_minor": 2
}
